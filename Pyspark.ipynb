{
  "nbformat": 4,
  "nbformat_minor": 0,
  "metadata": {
    "colab": {
      "provenance": []
    },
    "kernelspec": {
      "name": "python3",
      "display_name": "Python 3"
    },
    "language_info": {
      "name": "python"
    }
  },
  "cells": [
    {
      "cell_type": "code",
      "source": [
        "!pip install pyspark"
      ],
      "metadata": {
        "colab": {
          "base_uri": "https://localhost:8080/"
        },
        "id": "tE46tpU2t6Zs",
        "outputId": "88ad4a72-b37f-4bbf-c6d1-deecef987189"
      },
      "execution_count": null,
      "outputs": [
        {
          "output_type": "stream",
          "name": "stdout",
          "text": [
            "Collecting pyspark\n",
            "  Downloading pyspark-3.5.1.tar.gz (317.0 MB)\n",
            "\u001b[2K     \u001b[90m━━━━━━━━━━━━━━━━━━━━━━━━━━━━━━━━━━━━━━━━\u001b[0m \u001b[32m317.0/317.0 MB\u001b[0m \u001b[31m2.6 MB/s\u001b[0m eta \u001b[36m0:00:00\u001b[0m\n",
            "\u001b[?25h  Preparing metadata (setup.py) ... \u001b[?25l\u001b[?25hdone\n",
            "Requirement already satisfied: py4j==0.10.9.7 in /usr/local/lib/python3.10/dist-packages (from pyspark) (0.10.9.7)\n",
            "Building wheels for collected packages: pyspark\n",
            "  Building wheel for pyspark (setup.py) ... \u001b[?25l\u001b[?25hdone\n",
            "  Created wheel for pyspark: filename=pyspark-3.5.1-py2.py3-none-any.whl size=317488491 sha256=7ddb9a0762cad92aca7d8dbe9a5b02ea916706759282041fa16c977c692df55a\n",
            "  Stored in directory: /root/.cache/pip/wheels/80/1d/60/2c256ed38dddce2fdd93be545214a63e02fbd8d74fb0b7f3a6\n",
            "Successfully built pyspark\n",
            "Installing collected packages: pyspark\n",
            "Successfully installed pyspark-3.5.1\n"
          ]
        }
      ]
    },
    {
      "cell_type": "code",
      "execution_count": null,
      "metadata": {
        "colab": {
          "base_uri": "https://localhost:8080/"
        },
        "id": "1m8TXYujtbBO",
        "outputId": "056d2d4b-fd3b-4709-b0da-2559906b20ef"
      },
      "outputs": [
        {
          "output_type": "stream",
          "name": "stdout",
          "text": [
            "Train Size: 22875\n",
            "Test Size: 9686\n",
            "+---+---------+--------+-------------+---------------+--------------+----------+---------------+-------------------+-------+------------+------------+--------------+--------------+------------+--------------------+-----+--------------------+--------------------+----------+\n",
            "|age|workclass|  weight|    education|education_years|marital_status|occupation|   relationship|               race|    sex|capital_gain|capital_loss|hours_per_week|   citizenship|income_class|            features|label|       rawPrediction|         probability|prediction|\n",
            "+---+---------+--------+-------------+---------------+--------------+----------+---------------+-------------------+-------+------------+------------+--------------+--------------+------------+--------------------+-----+--------------------+--------------------+----------+\n",
            "| 17|        ?| 41643.0|         11th|            7.0| Never-married|         ?|      Own-child|              White| Female|         0.0|         0.0|          15.0| United-States|       <=50K|[17.0,41643.0,7.0...|  0.0|[18.6837689875720...|[0.93418844937860...|       0.0|\n",
            "| 17|        ?| 64785.0|         10th|            6.0| Never-married|         ?|      Own-child|              White|   Male|         0.0|         0.0|          30.0| United-States|       <=50K|[17.0,64785.0,6.0...|  0.0|[18.6837689875720...|[0.93418844937860...|       0.0|\n",
            "| 17|        ?| 80077.0|         11th|            7.0| Never-married|         ?|      Own-child|              White| Female|         0.0|         0.0|          20.0| United-States|       <=50K|[17.0,80077.0,7.0...|  0.0|[18.6837689875720...|[0.93418844937860...|       0.0|\n",
            "| 17|        ?| 86786.0|         10th|            6.0| Never-married|         ?|      Own-child|              White| Female|         0.0|         0.0|          40.0| United-States|       <=50K|[17.0,86786.0,6.0...|  0.0|[18.3944153506085...|[0.91972076753042...|       0.0|\n",
            "| 17|        ?|104025.0|         11th|            7.0| Never-married|         ?|      Own-child|              White|   Male|         0.0|         0.0|          18.0| United-States|       <=50K|[17.0,104025.0,7....|  0.0|[18.6837689875720...|[0.93418844937860...|       0.0|\n",
            "| 17|        ?|110998.0| Some-college|           10.0| Never-married|         ?|      Own-child| Asian-Pac-Islander| Female|         0.0|         0.0|          40.0|   Philippines|       <=50K|[17.0,110998.0,10...|  0.0|[18.3944153506085...|[0.91972076753042...|       0.0|\n",
            "| 17|        ?|112942.0|         10th|            6.0| Never-married|         ?|      Own-child|              White|   Male|         0.0|         0.0|          40.0| United-States|       <=50K|[17.0,112942.0,6....|  0.0|[18.3944153506085...|[0.91972076753042...|       0.0|\n",
            "| 17|        ?|139183.0|         10th|            6.0| Never-married|         ?|      Own-child|              White| Female|         0.0|         0.0|          15.0| United-States|       <=50K|[17.0,139183.0,6....|  0.0|[18.6837689875720...|[0.93418844937860...|       0.0|\n",
            "| 17|        ?|145258.0|         11th|            7.0| Never-married|         ?| Other-relative|              White| Female|         0.0|         0.0|          25.0| United-States|       <=50K|[17.0,145258.0,7....|  0.0|[18.6837689875720...|[0.93418844937860...|       0.0|\n",
            "| 17|        ?|148769.0|      HS-grad|            9.0| Never-married|         ?|      Own-child|              Black|   Male|         0.0|         0.0|          40.0| United-States|       <=50K|[17.0,148769.0,9....|  0.0|[18.3944153506085...|[0.91972076753042...|       0.0|\n",
            "| 17|        ?|151141.0|         10th|            6.0| Never-married|         ?|      Own-child|              White|   Male|         0.0|         0.0|          30.0| United-States|       <=50K|[17.0,151141.0,6....|  0.0|[18.6837689875720...|[0.93418844937860...|       0.0|\n",
            "| 17|        ?|166759.0|         12th|            8.0| Never-married|         ?|      Own-child|              White| Female|         0.0|         0.0|          40.0| United-States|       <=50K|[17.0,166759.0,8....|  0.0|[18.3944153506085...|[0.91972076753042...|       0.0|\n",
            "| 17|        ?|170320.0|         11th|            7.0| Never-married|         ?|      Own-child|              White| Female|         0.0|         0.0|           8.0| United-States|       <=50K|[17.0,170320.0,7....|  0.0|[18.6837689875720...|[0.93418844937860...|       0.0|\n",
            "| 17|        ?|171461.0|         10th|            6.0| Never-married|         ?|      Own-child|              White| Female|         0.0|         0.0|          20.0| United-States|       <=50K|[17.0,171461.0,6....|  0.0|[18.6837689875720...|[0.93418844937860...|       0.0|\n",
            "| 17|        ?|179715.0|         10th|            6.0| Never-married|         ?|      Own-child|              White|   Male|         0.0|         0.0|          40.0| United-States|       <=50K|[17.0,179715.0,6....|  0.0|[18.3944153506085...|[0.91972076753042...|       0.0|\n",
            "| 17|        ?|187539.0|         11th|            7.0| Never-married|         ?|      Own-child|              White| Female|         0.0|         0.0|          10.0| United-States|       <=50K|[17.0,187539.0,7....|  0.0|[18.6837689875720...|[0.93418844937860...|       0.0|\n",
            "| 17|        ?|198797.0|         11th|            7.0| Never-married|         ?|      Own-child|              White|   Male|         0.0|         0.0|          20.0|          Peru|       <=50K|[17.0,198797.0,7....|  0.0|[18.6837689875720...|[0.93418844937860...|       0.0|\n",
            "| 17|        ?|213055.0|         11th|            7.0| Never-married|         ?|  Not-in-family|              Other| Female|         0.0|         0.0|          20.0| United-States|       <=50K|[17.0,213055.0,7....|  0.0|[18.6837689875720...|[0.93418844937860...|       0.0|\n",
            "| 17|        ?|219277.0|         11th|            7.0| Never-married|         ?|      Own-child|              White| Female|         0.0|         0.0|          20.0| United-States|       <=50K|[17.0,219277.0,7....|  0.0|[18.6837689875720...|[0.93418844937860...|       0.0|\n",
            "| 17|        ?|228373.0|         10th|            6.0| Never-married|         ?|      Own-child|              White|   Male|         0.0|         0.0|          30.0| United-States|       <=50K|[17.0,228373.0,6....|  0.0|[18.6837689875720...|[0.93418844937860...|       0.0|\n",
            "+---+---------+--------+-------------+---------------+--------------+----------+---------------+-------------------+-------+------------+------------+--------------+--------------+------------+--------------------+-----+--------------------+--------------------+----------+\n",
            "only showing top 20 rows\n",
            "\n",
            "+---+---------+--------+-------------+---------------+--------------+----------+---------------+-------------------+-------+------------+------------+--------------+--------------+------------+--------------------+-----+--------------+--------------------+----------+\n",
            "|age|workclass|  weight|    education|education_years|marital_status|occupation|   relationship|               race|    sex|capital_gain|capital_loss|hours_per_week|   citizenship|income_class|            features|label| rawPrediction|         probability|prediction|\n",
            "+---+---------+--------+-------------+---------------+--------------+----------+---------------+-------------------+-------+------------+------------+--------------+--------------+------------+--------------------+-----+--------------+--------------------+----------+\n",
            "| 17|        ?| 41643.0|         11th|            7.0| Never-married|         ?|      Own-child|              White| Female|         0.0|         0.0|          15.0| United-States|       <=50K|[17.0,41643.0,7.0...|  0.0|[7041.0,361.0]|[0.95122939746014...|       0.0|\n",
            "| 17|        ?| 64785.0|         10th|            6.0| Never-married|         ?|      Own-child|              White|   Male|         0.0|         0.0|          30.0| United-States|       <=50K|[17.0,64785.0,6.0...|  0.0|[7041.0,361.0]|[0.95122939746014...|       0.0|\n",
            "| 17|        ?| 80077.0|         11th|            7.0| Never-married|         ?|      Own-child|              White| Female|         0.0|         0.0|          20.0| United-States|       <=50K|[17.0,80077.0,7.0...|  0.0|[7041.0,361.0]|[0.95122939746014...|       0.0|\n",
            "| 17|        ?| 86786.0|         10th|            6.0| Never-married|         ?|      Own-child|              White| Female|         0.0|         0.0|          40.0| United-States|       <=50K|[17.0,86786.0,6.0...|  0.0|[7041.0,361.0]|[0.95122939746014...|       0.0|\n",
            "| 17|        ?|104025.0|         11th|            7.0| Never-married|         ?|      Own-child|              White|   Male|         0.0|         0.0|          18.0| United-States|       <=50K|[17.0,104025.0,7....|  0.0|[7041.0,361.0]|[0.95122939746014...|       0.0|\n",
            "| 17|        ?|110998.0| Some-college|           10.0| Never-married|         ?|      Own-child| Asian-Pac-Islander| Female|         0.0|         0.0|          40.0|   Philippines|       <=50K|[17.0,110998.0,10...|  0.0|[7041.0,361.0]|[0.95122939746014...|       0.0|\n",
            "| 17|        ?|112942.0|         10th|            6.0| Never-married|         ?|      Own-child|              White|   Male|         0.0|         0.0|          40.0| United-States|       <=50K|[17.0,112942.0,6....|  0.0|[7041.0,361.0]|[0.95122939746014...|       0.0|\n",
            "| 17|        ?|139183.0|         10th|            6.0| Never-married|         ?|      Own-child|              White| Female|         0.0|         0.0|          15.0| United-States|       <=50K|[17.0,139183.0,6....|  0.0|[7041.0,361.0]|[0.95122939746014...|       0.0|\n",
            "| 17|        ?|145258.0|         11th|            7.0| Never-married|         ?| Other-relative|              White| Female|         0.0|         0.0|          25.0| United-States|       <=50K|[17.0,145258.0,7....|  0.0|[7041.0,361.0]|[0.95122939746014...|       0.0|\n",
            "| 17|        ?|148769.0|      HS-grad|            9.0| Never-married|         ?|      Own-child|              Black|   Male|         0.0|         0.0|          40.0| United-States|       <=50K|[17.0,148769.0,9....|  0.0|[7041.0,361.0]|[0.95122939746014...|       0.0|\n",
            "| 17|        ?|151141.0|         10th|            6.0| Never-married|         ?|      Own-child|              White|   Male|         0.0|         0.0|          30.0| United-States|       <=50K|[17.0,151141.0,6....|  0.0|[7041.0,361.0]|[0.95122939746014...|       0.0|\n",
            "| 17|        ?|166759.0|         12th|            8.0| Never-married|         ?|      Own-child|              White| Female|         0.0|         0.0|          40.0| United-States|       <=50K|[17.0,166759.0,8....|  0.0|[7041.0,361.0]|[0.95122939746014...|       0.0|\n",
            "| 17|        ?|170320.0|         11th|            7.0| Never-married|         ?|      Own-child|              White| Female|         0.0|         0.0|           8.0| United-States|       <=50K|[17.0,170320.0,7....|  0.0|[7041.0,361.0]|[0.95122939746014...|       0.0|\n",
            "| 17|        ?|171461.0|         10th|            6.0| Never-married|         ?|      Own-child|              White| Female|         0.0|         0.0|          20.0| United-States|       <=50K|[17.0,171461.0,6....|  0.0|[7041.0,361.0]|[0.95122939746014...|       0.0|\n",
            "| 17|        ?|179715.0|         10th|            6.0| Never-married|         ?|      Own-child|              White|   Male|         0.0|         0.0|          40.0| United-States|       <=50K|[17.0,179715.0,6....|  0.0|[7041.0,361.0]|[0.95122939746014...|       0.0|\n",
            "| 17|        ?|187539.0|         11th|            7.0| Never-married|         ?|      Own-child|              White| Female|         0.0|         0.0|          10.0| United-States|       <=50K|[17.0,187539.0,7....|  0.0|[7041.0,361.0]|[0.95122939746014...|       0.0|\n",
            "| 17|        ?|198797.0|         11th|            7.0| Never-married|         ?|      Own-child|              White|   Male|         0.0|         0.0|          20.0|          Peru|       <=50K|[17.0,198797.0,7....|  0.0|[7041.0,361.0]|[0.95122939746014...|       0.0|\n",
            "| 17|        ?|213055.0|         11th|            7.0| Never-married|         ?|  Not-in-family|              Other| Female|         0.0|         0.0|          20.0| United-States|       <=50K|[17.0,213055.0,7....|  0.0|[7041.0,361.0]|[0.95122939746014...|       0.0|\n",
            "| 17|        ?|219277.0|         11th|            7.0| Never-married|         ?|      Own-child|              White| Female|         0.0|         0.0|          20.0| United-States|       <=50K|[17.0,219277.0,7....|  0.0|[7041.0,361.0]|[0.95122939746014...|       0.0|\n",
            "| 17|        ?|228373.0|         10th|            6.0| Never-married|         ?|      Own-child|              White|   Male|         0.0|         0.0|          30.0| United-States|       <=50K|[17.0,228373.0,6....|  0.0|[7041.0,361.0]|[0.95122939746014...|       0.0|\n",
            "+---+---------+--------+-------------+---------------+--------------+----------+---------------+-------------------+-------+------------+------------+--------------+--------------+------------+--------------------+-----+--------------+--------------------+----------+\n",
            "only showing top 20 rows\n",
            "\n",
            "Random Forest Accuracy: 0.8141647739004749\n",
            "Decision Tree Accuracy: 0.8213916993599009\n",
            "Random Forest Confusion Matrix:\n",
            "[[7026.  298.]\n",
            " [1502.  860.]]\n",
            "Decision Tree Confusion Matrix:\n",
            "[[6952.  372.]\n",
            " [1358. 1004.]]\n"
          ]
        }
      ],
      "source": [
        "from pyspark.sql import SparkSession\n",
        "import pandas as pd\n",
        "\n",
        "\n",
        "# Create SparkSession\n",
        "spark = SparkSession.builder.appName('income-classifier').getOrCreate()\n",
        "\n",
        "# Load the dataset\n",
        "df = spark.read.csv('income.csv', header=True, inferSchema=True)\n",
        "\n",
        "# Feature Engineering\n",
        "numeric_features = [t[0] for t in df.dtypes if t[1] == 'int' or t[1] == 'double']\n",
        "\n",
        "# Assemble numeric features into a vector\n",
        "from pyspark.ml.feature import VectorAssembler\n",
        "assembler = VectorAssembler(inputCols=numeric_features, outputCol='features')\n",
        "df = assembler.transform(df)\n",
        "#df.show()\n",
        "\n",
        "from pyspark.ml.feature import StringIndexer\n",
        "labels= StringIndexer(inputCol= 'income_class', outputCol= 'label')\n",
        "df = labels.fit(df).transform(df)\n",
        "#df.show()\n",
        "\n",
        "#print(pd.DataFrame(df.take(100), columns = df.columns))\n",
        "\n",
        "# Splitting the dataset into training and testing sets\n",
        "train, test = df.randomSplit([0.7, 0.3], seed=42)\n",
        "print('Train Size: '+str(train.count()))\n",
        "print('Test Size: '+str(test.count()))\n",
        "\n",
        "# Random Forest Classifier\n",
        "from pyspark.ml.classification import RandomForestClassifier\n",
        "rf = RandomForestClassifier(featuresCol='features', labelCol='label')  # Changed labelCol to 'label'\n",
        "rf_model = rf.fit(train)\n",
        "rf_predictions = rf_model.transform(test)\n",
        "rf_predictions.select(rf_predictions.columns).show()\n",
        "\n",
        "# Decision Tree Classifier\n",
        "from pyspark.ml.classification import DecisionTreeClassifier\n",
        "dt = DecisionTreeClassifier(featuresCol='features', labelCol='label')  # Changed labelCol to 'label'\n",
        "dt_model = dt.fit(train)\n",
        "dt_predictions = dt_model.transform(test)\n",
        "dt_predictions.select(dt_predictions.columns).show()\n",
        "\n",
        "# Evaluation\n",
        "from pyspark.ml.evaluation import MulticlassClassificationEvaluator\n",
        "\n",
        "# Random Forest Evaluation and finding the accuracy\n",
        "evaluator = MulticlassClassificationEvaluator(labelCol='label', predictionCol='prediction', metricName='accuracy')\n",
        "rf_accuracy = evaluator.evaluate(rf_predictions)\n",
        "print('Random Forest Accuracy: {}'.format(rf_accuracy))\n",
        "\n",
        "# Decision Tree Evaluation and its accurcy\n",
        "dt_accuracy = evaluator.evaluate(dt_predictions)\n",
        "print('Decision Tree Accuracy: {}'.format(dt_accuracy))\n",
        "\n",
        "# calculaing the Confusion Matrix\n",
        "from pyspark.mllib.evaluation import MulticlassMetrics\n",
        "from pyspark.sql.types import FloatType\n",
        "import pyspark.sql.functions as F\n",
        "rf_preds = rf_predictions.select(['prediction', 'label']).withColumn('label', F.col('label').cast(FloatType())).select(['prediction', 'label'])\n",
        "rf_metrics = MulticlassMetrics(rf_preds.rdd.map(tuple)).confusionMatrix().toArray()\n",
        "print('Random Forest Confusion Matrix:')\n",
        "print(rf_metrics)\n",
        "\n",
        "dt_preds = dt_predictions.select(['prediction', 'label']).withColumn('label', F.col('label').cast(FloatType())).select(['prediction', 'label'])\n",
        "dt_metrics = MulticlassMetrics(dt_preds.rdd.map(tuple)).confusionMatrix().toArray()\n",
        "print('Decision Tree Confusion Matrix:')\n",
        "print(dt_metrics)\n"
      ]
    }
  ]
}